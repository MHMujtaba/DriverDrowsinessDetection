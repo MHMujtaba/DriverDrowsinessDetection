{
 "cells": [
  {
   "cell_type": "code",
   "execution_count": 34,
   "metadata": {},
   "outputs": [],
   "source": [
    "import pandas as pd\n",
    "import numpy as np\n",
    "from sklearn.preprocessing import MinMaxScaler\n"
   ]
  },
  {
   "cell_type": "code",
   "execution_count": 35,
   "metadata": {},
   "outputs": [],
   "source": [
    "skip_files=[3,6,16,18,31,37,44,46,48,49,58,60,25]\n",
    "\n"
   ]
  },
  {
   "cell_type": "code",
   "execution_count": 36,
   "metadata": {},
   "outputs": [],
   "source": [
    "# Function to take dataframe and apply minmax normalisation\n",
    "def normalize(df):\n",
    "    labels = df['Label']\n",
    "\n",
    "    part_ids = df['Part_ID']\n",
    "    df = df.drop(['Label', 'Part_ID'], axis=1)\n",
    "    scaler = MinMaxScaler()\n",
    "\n",
    "    df_norm = pd.DataFrame(scaler.fit_transform(df), columns=df.columns)\n",
    "    df_norm = pd.concat([labels, part_ids, df_norm], axis=1)\n",
    "    return df_norm\n",
    "\n"
   ]
  },
  {
   "cell_type": "markdown",
   "metadata": {},
   "source": [
    "### Iterate over CSV files, normalise and then merge"
   ]
  },
  {
   "cell_type": "code",
   "execution_count": 37,
   "metadata": {},
   "outputs": [],
   "source": [
    "csvfiles = []\n",
    "for i in range(0,60):\n",
    "    if skip_files.__contains__(i+1):\n",
    "        continue\n",
    "    try:\n",
    "        x = pd.read_csv(f'../datasets/EMYA_{i+1}_0.csv')\n",
    "        \n",
    "        x= x.head(3000)\n",
    "        x = normalize(x)\n",
    "        csvfiles.append(x)\n",
    "    except:\n",
    "        pass"
   ]
  },
  {
   "cell_type": "code",
   "execution_count": 38,
   "metadata": {},
   "outputs": [],
   "source": [
    "for i in range(0,60):\n",
    "    if skip_files.__contains__(i+1):\n",
    "        continue\n",
    "    try:\n",
    "        x = pd.read_csv(f'../datasets/EMYA_{i+1}_5.csv')\n",
    "        \n",
    "        x= x.head(3000)\n",
    "        x = normalize(x)\n",
    "        csvfiles.append(x)\n",
    "    except:\n",
    "        pass"
   ]
  },
  {
   "cell_type": "code",
   "execution_count": 39,
   "metadata": {},
   "outputs": [],
   "source": [
    "for i in range(0,60):\n",
    "    if skip_files.__contains__(i+1):\n",
    "        continue\n",
    "    try:\n",
    "        x = pd.read_csv(f'../datasets/EMYA_{i+1}_10.csv')\n",
    "        \n",
    "        x= x.head(3000)\n",
    "        x = normalize(x)\n",
    "        csvfiles.append(x)\n",
    "    except:\n",
    "        pass"
   ]
  },
  {
   "cell_type": "code",
   "execution_count": 40,
   "metadata": {},
   "outputs": [],
   "source": [
    "pd.concat(csvfiles).to_csv(\"mergedEMYA_min_max_normEMYA.csv\")\n"
   ]
  }
 ],
 "metadata": {
  "kernelspec": {
   "display_name": "base",
   "language": "python",
   "name": "python3"
  },
  "language_info": {
   "codemirror_mode": {
    "name": "ipython",
    "version": 3
   },
   "file_extension": ".py",
   "mimetype": "text/x-python",
   "name": "python",
   "nbconvert_exporter": "python",
   "pygments_lexer": "ipython3",
   "version": "3.11.5"
  }
 },
 "nbformat": 4,
 "nbformat_minor": 2
}
